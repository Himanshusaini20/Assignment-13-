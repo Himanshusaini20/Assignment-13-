{
 "cells": [
  {
   "cell_type": "markdown",
   "id": "81e5f402-e3ad-46df-81a6-1c0ce87ff81a",
   "metadata": {},
   "source": [
    "### Q1 What is database? Differentiate brtween SQL and NoSQL databases."
   ]
  },
  {
   "cell_type": "code",
   "execution_count": 1,
   "id": "672338a8-c72e-4624-bed4-dff1473f451c",
   "metadata": {},
   "outputs": [
    {
     "data": {
      "text/plain": [
       "' In computing, a database is an organized collection of data stored and accessed electronically through the use of a database management system.\\nSmall database can be stored on a file system,while large database are hosted on computer cluster or cloud storage'"
      ]
     },
     "execution_count": 1,
     "metadata": {},
     "output_type": "execute_result"
    }
   ],
   "source": [
    "''' In computing, a database is an organized collection of data stored and accessed electronically through the use of a database management system.\n",
    "Small database can be stored on a file system,while large database are hosted on computer cluster or cloud storage'''"
   ]
  },
  {
   "cell_type": "code",
   "execution_count": 2,
   "id": "9a15bb25-5508-43e8-9ea0-4e54c4284cfe",
   "metadata": {},
   "outputs": [
    {
     "data": {
      "text/plain": [
       "'SQL database are table based, while NoSQL database are document,key-value,graph,or wide-column stores. SQL database are better for multi-row transactions,\\nwhile NoSQL is better for unstructured data like document and JSON.  '"
      ]
     },
     "execution_count": 2,
     "metadata": {},
     "output_type": "execute_result"
    }
   ],
   "source": [
    "# SQL and NoSQl database\n",
    "'''SQL database are table based, while NoSQL database are document,key-value,graph,or wide-column stores. SQL database are better for multi-row transactions,\n",
    "while NoSQL is better for unstructured data like document and JSON.  '''"
   ]
  },
  {
   "cell_type": "markdown",
   "id": "eaff1d24-c6dd-4eab-b54f-8682818dde29",
   "metadata": {},
   "source": [
    "### Q2 What is DDL? Explain why CREATE,DROP,ALTER,and TRUNCATE are used with example."
   ]
  },
  {
   "cell_type": "code",
   "execution_count": 3,
   "id": "04418f2a-f7b4-46a6-974f-dd6edb5d79c5",
   "metadata": {},
   "outputs": [
    {
     "data": {
      "text/plain": [
       "' In the context of SQL, DDL is a syntax for creating and modifying database objects such as tables,indices,and users. DDL statments are similar to a computer\\nprograming language for defining data structures,especially database schemas.'"
      ]
     },
     "execution_count": 3,
     "metadata": {},
     "output_type": "execute_result"
    }
   ],
   "source": [
    "''' In the context of SQL, DDL is a syntax for creating and modifying database objects such as tables,indices,and users. DDL statments are similar to a computer\n",
    "programing language for defining data structures,especially database schemas.'''"
   ]
  },
  {
   "cell_type": "code",
   "execution_count": null,
   "id": "ce55bc29-fd19-470f-962f-bdbd1caad022",
   "metadata": {},
   "outputs": [],
   "source": [
    "# CREATE\n",
    "CREATE TABLE Student_info(\n",
    "College_Id number(2),\n",
    "College_Name Varchar(30),\n",
    "Branch Varcar(10)\n",
    ") "
   ]
  },
  {
   "cell_type": "code",
   "execution_count": null,
   "id": "4458772e-00a4-4688-b47f-17dfcc505ee6",
   "metadata": {},
   "outputs": [],
   "source": [
    "# ALTER\n",
    "ALTER TABLE Student_info\n",
    "ADD CGPA number;"
   ]
  },
  {
   "cell_type": "code",
   "execution_count": null,
   "id": "7712ddb3-e515-4af7-b817-3d49ec35f05c",
   "metadata": {},
   "outputs": [],
   "source": [
    "# DROP \n",
    "DROP TABLE Student_info;"
   ]
  },
  {
   "cell_type": "code",
   "execution_count": null,
   "id": "4b034c6d-5968-44ae-8847-2cf7d3dbec92",
   "metadata": {},
   "outputs": [],
   "source": [
    "# TRUNCATE\n",
    "TRUNCATE TABLE Student_info;"
   ]
  },
  {
   "cell_type": "markdown",
   "id": "a4e869d1-8b0b-42ee-b9ee-63da7d5b0362",
   "metadata": {},
   "source": [
    "### Q3 What is DML? Explain INSERT,UPDATE,and DELETE with an example."
   ]
  },
  {
   "cell_type": "code",
   "execution_count": 7,
   "id": "a3d38dad-2db6-46b8-9a77-c6e48083183e",
   "metadata": {},
   "outputs": [
    {
     "data": {
      "text/plain": [
       "' A data manipulation language is a computer programing language used for adding, deleting, and modifying data in a database. aA DML is often a sublanguage\\nof a broader language such as SQL, with DML comprising some 0f the operators in the language. '"
      ]
     },
     "execution_count": 7,
     "metadata": {},
     "output_type": "execute_result"
    }
   ],
   "source": [
    "''' A data manipulation language is a computer programing language used for adding, deleting, and modifying data in a database. aA DML is often a sublanguage\n",
    "of a broader language such as SQL, with DML comprising some 0f the operators in the language. '''"
   ]
  },
  {
   "cell_type": "code",
   "execution_count": null,
   "id": "c4414699-3927-4699-a15c-3b11b930491e",
   "metadata": {},
   "outputs": [],
   "source": [
    "# INSERT \n",
    "Insert info Employee(Emp_Id,Emp_name)values(001,\"Sahil\")\n",
    "Insert info Employee(Emp_Id,Emp_name)values(002,\"Himanshu\")\n",
    "Insert info Employee(Emp_Id,Emp_name)values(003,\"Jatin\")"
   ]
  },
  {
   "cell_type": "code",
   "execution_count": null,
   "id": "8ca7d72d-646f-4457-840d-48e96e3b892f",
   "metadata": {},
   "outputs": [],
   "source": [
    "# UPDATE\n",
    "SELECT * from Employee;"
   ]
  },
  {
   "cell_type": "code",
   "execution_count": null,
   "id": "1c4b184f-baf3-411b-b5f3-b639ed633179",
   "metadata": {},
   "outputs": [],
   "source": [
    "# DELETE\n",
    "DELETE from Employee WHERE Emp_Id=002;"
   ]
  },
  {
   "cell_type": "markdown",
   "id": "8f1a2f85-8e40-42a4-af2e-e23a61b9a4ca",
   "metadata": {},
   "source": [
    "### Q4 What is DQL? Explain SELECT with an example."
   ]
  },
  {
   "cell_type": "code",
   "execution_count": 8,
   "id": "e258a7ce-5189-400f-935b-dc8a39d7c005",
   "metadata": {},
   "outputs": [
    {
     "data": {
      "text/plain": [
       "' Data Query Languages, often knows as DQLs, are computer language that are used to make various queries in information system and databases. The SQL is a well \\nknown example. DQL  statements are used to query the data contained in schema objects.'"
      ]
     },
     "execution_count": 8,
     "metadata": {},
     "output_type": "execute_result"
    }
   ],
   "source": [
    "''' Data Query Languages, often knows as DQLs, are computer language that are used to make various queries in information system and databases. The SQL is a well \n",
    "known example. DQL  statements are used to query the data contained in schema objects.'''"
   ]
  },
  {
   "cell_type": "code",
   "execution_count": null,
   "id": "cbd58d7f-fbad-4420-a3c0-62169e25263d",
   "metadata": {},
   "outputs": [],
   "source": [
    "SELECT College_Id from Student_info"
   ]
  },
  {
   "cell_type": "markdown",
   "id": "a2a8a071-3889-4b61-9cd5-5e8152ed5f5d",
   "metadata": {},
   "source": [
    "### Q5 Explain Primary Key and Foreign Key."
   ]
  },
  {
   "cell_type": "code",
   "execution_count": 9,
   "id": "292a71ad-f266-42d5-ab00-9e1d175eac18",
   "metadata": {},
   "outputs": [
    {
     "data": {
      "text/plain": [
       "'A primary key generally focuses on the uniqueness of the table. It assure the value in the specific column is unique. A foreign key is generally used to build\\na relationship between two tables. The table allows anly one primary key.'"
      ]
     },
     "execution_count": 9,
     "metadata": {},
     "output_type": "execute_result"
    }
   ],
   "source": [
    "'''A primary key generally focuses on the uniqueness of the table. It assure the value in the specific column is unique. A foreign key is generally used to build\n",
    "a relationship between two tables. The table allows anly one primary key.'''"
   ]
  },
  {
   "cell_type": "markdown",
   "id": "1739042f-0123-4cf4-ba11-4a7e031f7d62",
   "metadata": {},
   "source": [
    "### Q6 Write a python code to connect MySQL to python. Explain the cursor() and execute() method."
   ]
  },
  {
   "cell_type": "code",
   "execution_count": null,
   "id": "92a9079c-cd6e-4e2b-8fe6-acf203130431",
   "metadata": {},
   "outputs": [],
   "source": [
    "import mysql.connecter\n",
    "myconn=mysql.connecter.connect(host=\"localhost\",user=\"root\",password=\"google\")\n",
    "print(myconn)"
   ]
  },
  {
   "cell_type": "code",
   "execution_count": 10,
   "id": "897df1f4-f4e4-4c6b-9cec-a7e9b1c74bdf",
   "metadata": {},
   "outputs": [
    {
     "data": {
      "text/plain": [
       "' The MySQLCursor class instantiates objects that can execute opreations such as SQL statements. Cursor object intract with the MySQL srever using a \\nMySQLConnection object. To create a cursor() method of a connection object .'"
      ]
     },
     "execution_count": 10,
     "metadata": {},
     "output_type": "execute_result"
    }
   ],
   "source": [
    "# cursor()\n",
    "''' The MySQLCursor class instantiates objects that can execute opreations such as SQL statements. Cursor object intract with the MySQL srever using a \n",
    "MySQLConnection object. To create a cursor() method of a connection object .'''"
   ]
  },
  {
   "cell_type": "code",
   "execution_count": 11,
   "id": "d7ba5efe-658c-4ba9-b6d6-f7ce3d9b57f8",
   "metadata": {},
   "outputs": [
    {
     "data": {
      "text/plain": [
       "' Execute () method. This method executes the given database operation. The parameters found in the tuple or dictionary params are bound to the variables in \\nthe operation. Specify variables using %s or%(name)s parameter style (that is, using format or pyformat style)'"
      ]
     },
     "execution_count": 11,
     "metadata": {},
     "output_type": "execute_result"
    }
   ],
   "source": [
    "# execute()\n",
    "''' Execute () method. This method executes the given database operation. The parameters found in the tuple or dictionary params are bound to the variables in \n",
    "the operation. Specify variables using %s or%(name)s parameter style (that is, using format or pyformat style)'''"
   ]
  },
  {
   "cell_type": "markdown",
   "id": "46b57a98-cee5-427e-a437-05e832267bd9",
   "metadata": {},
   "source": [
    "### Q7 Give the order of execution of SQL clauses in an SQL query."
   ]
  },
  {
   "cell_type": "code",
   "execution_count": null,
   "id": "02dae9c2-b82f-4284-a40e-f25b0bb34c5d",
   "metadata": {},
   "outputs": [],
   "source": [
    "SELECT\n",
    "    f.product as beer\n",
    "    p.product as crisps\n",
    "FROM \n",
    "    fridge f\n",
    "CROSS JOIN\n",
    "    pantry p\n",
    "WHERE \n",
    "    f.product = 'BEER'\n",
    "    AND f.temperature<5\n",
    "    AND f.size ='50 fl oz'\n",
    "    AND p.product='Crisps'\n",
    "    AND p.style ='Cream Cheese'\n",
    "    AND p.size ='250g'\n",
    "ORDER BY\n",
    "    crisps\n",
    "    beer\n",
    "    ;"
   ]
  }
 ],
 "metadata": {
  "kernelspec": {
   "display_name": "Python 3 (ipykernel)",
   "language": "python",
   "name": "python3"
  },
  "language_info": {
   "codemirror_mode": {
    "name": "ipython",
    "version": 3
   },
   "file_extension": ".py",
   "mimetype": "text/x-python",
   "name": "python",
   "nbconvert_exporter": "python",
   "pygments_lexer": "ipython3",
   "version": "3.10.8"
  }
 },
 "nbformat": 4,
 "nbformat_minor": 5
}
